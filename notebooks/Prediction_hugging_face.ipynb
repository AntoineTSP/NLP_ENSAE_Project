{
 "cells": [
  {
   "cell_type": "markdown",
   "id": "0884ad8c-0971-485c-8519-d247a2ed13fd",
   "metadata": {},
   "source": [
    "## Import library"
   ]
  },
  {
   "cell_type": "code",
   "execution_count": 1,
   "id": "2cd90cf9-0c82-41e7-bbc3-3046acbd1114",
   "metadata": {},
   "outputs": [],
   "source": [
    "import pandas as pd\n",
    "import numpy as np\n",
    "from tqdm import tqdm\n",
    "import json\n",
    "import yaml\n",
    "import re\n",
    "import matplotlib.pyplot as plt\n",
    "import os\n",
    "import time\n",
    "# print(os.getcwd())\n",
    "# os.chdir(\"NLP_ENSAE_Project/\")\n",
    "# os.getcwd()\n",
    "\n",
    "pd.set_option('future.no_silent_downcasting', True)"
   ]
  },
  {
   "cell_type": "markdown",
   "id": "592f4baa-d103-48a4-8418-26d850b6e3e3",
   "metadata": {},
   "source": [
    "## Load data and tokens"
   ]
  },
  {
   "cell_type": "code",
   "execution_count": 2,
   "id": "181f1faa-0732-461b-b260-af3feddc1dbf",
   "metadata": {},
   "outputs": [
    {
     "name": "stdout",
     "output_type": "stream",
     "text": [
      "/bin/bash: line 1: cd: NLP_ENSAE_Project: No such file or directory\n"
     ]
    },
    {
     "data": {
      "text/plain": [
       "{'Ⓐ': 'age',\n",
       " 'Ⓑ': 'birth_date',\n",
       " 'Ⓒ': 'civil_status',\n",
       " 'Ⓓ': 'education_level',\n",
       " 'Ⓔ': 'employer',\n",
       " 'Ⓕ': 'firstname',\n",
       " 'Ⓗ': 'link',\n",
       " 'Ⓘ': 'lob',\n",
       " 'Ⓙ': 'maiden_name',\n",
       " 'Ⓚ': 'nationality',\n",
       " 'Ⓛ': 'observation',\n",
       " 'Ⓜ': 'occupation',\n",
       " 'Ⓞ': 'surname',\n",
       " 'Ⓟ': 'surname_household'}"
      ]
     },
     "execution_count": 2,
     "metadata": {},
     "output_type": "execute_result"
    }
   ],
   "source": [
    "!cd NLP_ENSAE_Project\n",
    "with open(f'../data/entities.json', 'r') as file:\n",
    "    data = json.load(file)\n",
    "\n",
    "with open(f'../data/tokens.yml', 'r') as file:\n",
    "    tokens = yaml.safe_load(file)\n",
    "    \n",
    "token_dict = {}\n",
    "for col in tokens.keys():\n",
    "    token = tokens[col]['start']\n",
    "    token_dict[token] = col\n",
    "\n",
    "token_dict"
   ]
  },
  {
   "cell_type": "markdown",
   "id": "0b2fe44d-3f42-45e1-a75d-4fbe0205e4bf",
   "metadata": {},
   "source": [
    "## Some Useful functions in my own .py"
   ]
  },
  {
   "cell_type": "code",
   "execution_count": 3,
   "id": "71064246-41bd-4df6-8d9c-85360ed7ff50",
   "metadata": {},
   "outputs": [],
   "source": [
    "os.chdir(\"../\")\n",
    "from src.useful_functions import *"
   ]
  },
  {
   "cell_type": "markdown",
   "id": "f49797af-2934-439f-9920-1525350c1baa",
   "metadata": {},
   "source": [
    "## Encode through pre-trained model"
   ]
  },
  {
   "cell_type": "code",
   "execution_count": 4,
   "id": "02635993-8cf9-4af7-aee6-9824e28d7516",
   "metadata": {},
   "outputs": [
    {
     "name": "stderr",
     "output_type": "stream",
     "text": [
      "100%|██████████| 1218/1218 [00:00<00:00, 2043.73it/s]\n"
     ]
    }
   ],
   "source": [
    "df = get_preprocessing_done(data, tokens,  token_dict)\n",
    "df = df.reset_index()\n",
    "df = df.rename(columns={\"surname_household\": \"Is_household\"})\n",
    "X = df.drop(columns=['Is_household'])\n",
    "y = df['Is_household'].apply(\n",
    "                                lambda x: 0 if pd.isna(x) else 1\n",
    "                            )\n",
    "X_str = np.array([' '.join([str(x) for x in X.iloc[i].dropna(inplace=False).values]) for i in range(len(X))], dtype=str)\n",
    "\n",
    "X_train, X_test, y_train, y_test = train_test_split(X_str, y, test_size=0.20, stratify=y)"
   ]
  },
  {
   "cell_type": "code",
   "execution_count": 5,
   "id": "a8ef43b3-8a2f-421e-bb61-96e8052cab09",
   "metadata": {},
   "outputs": [
    {
     "data": {
      "text/plain": [
       "array(['0 25 Garçon Cyrille française menuisier Breton',\n",
       "       '1 30 Garçon Auguste Piémontaise vitrier',\n",
       "       '2 24 Garçon Pierre Piémontaise vitrier', ...,\n",
       "       '25435 1886 Baretto Nello chef Castel italienne manoeuvre',\n",
       "       '25436 1887 Annunziata épouse idem idem Berni-Laureti',\n",
       "       '25437 1914 Primo fils idem idem Berni'], dtype='<U220')"
      ]
     },
     "execution_count": 5,
     "metadata": {},
     "output_type": "execute_result"
    }
   ],
   "source": [
    "X_str"
   ]
  },
  {
   "cell_type": "markdown",
   "id": "3503a480-4263-471c-9b36-5d3360df9dd9",
   "metadata": {},
   "source": [
    "## Full retrain"
   ]
  },
  {
   "cell_type": "code",
   "execution_count": 9,
   "id": "a8ebb165-cd05-48b2-96c7-cb633dd0df62",
   "metadata": {},
   "outputs": [
    {
     "name": "stderr",
     "output_type": "stream",
     "text": [
      "Some weights of BertForSequenceClassification were not initialized from the model checkpoint at bert-base-uncased and are newly initialized: ['classifier.bias', 'classifier.weight']\n",
      "You should probably TRAIN this model on a down-stream task to be able to use it for predictions and inference.\n"
     ]
    },
    {
     "name": "stdout",
     "output_type": "stream",
     "text": [
      "cuda\n",
      "Epoch: 0  Loss: 564.5017843144306\n",
      "Number of parameters to be learned: 109483778\n",
      "Training time: 653.844s\n"
     ]
    }
   ],
   "source": [
    "import torch\n",
    "from transformers import BertTokenizer, BertForSequenceClassification\n",
    "from torch.utils.data import TensorDataset, DataLoader, RandomSampler\n",
    "\n",
    "# Step 1: Preprocess Data\n",
    "# Assuming X is a list of text sequences and y is a list of corresponding labels\n",
    "\n",
    "tokenizer = BertTokenizer.from_pretrained('bert-base-uncased')\n",
    "\n",
    "# Tokenize the input sequences\n",
    "tokenized_texts = tokenizer(np.array(X_train).tolist(), padding=True, truncation=True, return_tensors='pt', max_length=512, add_special_tokens=True)\n",
    "\n",
    "# Step 2: Load Pretrained Model\n",
    "model = BertForSequenceClassification.from_pretrained('bert-base-uncased', num_labels=2)\n",
    "\n",
    "# Step 3: Fine-tuning\n",
    "device = torch.device(\"cuda\" if torch.cuda.is_available() else \"cpu\")\n",
    "print(device)\n",
    "model.to(device)\n",
    "\n",
    "# Step 4: Training\n",
    "labels = torch.tensor(np.array(y_train))\n",
    "dataset = TensorDataset(tokenized_texts['input_ids'], tokenized_texts['attention_mask'], labels)\n",
    "train_dataloader = DataLoader(dataset, sampler=RandomSampler(dataset), batch_size=4)\n",
    "\n",
    "optimizer = torch.optim.AdamW(model.parameters(), lr=2e-5)\n",
    "num_epochs = 1\n",
    "\n",
    "start = time.time()\n",
    "for epoch in range(num_epochs):\n",
    "    model.train()\n",
    "    total_loss = 0\n",
    "    for batch in train_dataloader:\n",
    "        batch = tuple(t.to(device) for t in batch)\n",
    "        inputs = {'input_ids': batch[0], 'attention_mask': batch[1], 'labels': batch[2]}\n",
    "        optimizer.zero_grad()\n",
    "        outputs = model(**inputs)\n",
    "        loss = outputs.loss\n",
    "        total_loss += loss.item()\n",
    "        loss.backward()\n",
    "        optimizer.step()\n",
    "    print(\"Epoch:\", epoch, \" Loss:\", total_loss)\n",
    "\n",
    "stop = time.time()\n",
    "\n",
    "# Count the number of trainable parameters\n",
    "num_params_to_learn = sum(p.numel() for p in model.parameters() if p.requires_grad)\n",
    "print(\"Number of parameters to be learned: \" + str(num_params_to_learn))\n",
    "print(f\"Training time: {round(stop - start,3)}s\")"
   ]
  },
  {
   "cell_type": "code",
   "execution_count": 10,
   "id": "1a5210d5-712f-4546-a13e-7962eda679e8",
   "metadata": {},
   "outputs": [
    {
     "name": "stdout",
     "output_type": "stream",
     "text": [
      "Inference time: 21.932s\n",
      "Accuracy: 0.9810568295114656\n",
      "Classification report\n",
      "              precision    recall  f1-score   support\n",
      "\n",
      "           0       0.98      1.00      0.99      3887\n",
      "           1       0.98      0.93      0.96      1128\n",
      "\n",
      "    accuracy                           0.98      5015\n",
      "   macro avg       0.98      0.96      0.97      5015\n",
      "weighted avg       0.98      0.98      0.98      5015\n",
      "\n"
     ]
    },
    {
     "data": {
      "image/png": "[encoded data removed]",
      "text/plain": [
       "<Figure size 500x500 with 2 Axes>"
      ]
     },
     "metadata": {},
     "output_type": "display_data"
    }
   ],
   "source": [
    "get_report_hugging_face_model(device, model, tokenizer, X_test, y_test)"
   ]
  },
  {
   "cell_type": "markdown",
   "id": "a49f43c5-f632-412a-83d7-175c08598831",
   "metadata": {},
   "source": [
    "# Only fine-tune the last classification layer"
   ]
  },
  {
   "cell_type": "code",
   "execution_count": 6,
   "id": "e4f8e281-fd3f-4310-9ba6-a2e93f83c9f9",
   "metadata": {},
   "outputs": [
    {
     "name": "stderr",
     "output_type": "stream",
     "text": [
      "Some weights of BertForSequenceClassification were not initialized from the model checkpoint at bert-base-uncased and are newly initialized: ['classifier.bias', 'classifier.weight']\n",
      "You should probably TRAIN this model on a down-stream task to be able to use it for predictions and inference.\n"
     ]
    },
    {
     "name": "stdout",
     "output_type": "stream",
     "text": [
      "cuda\n",
      "Epoch: 0  Loss: 2319.6891377680004\n",
      "Number of parameters to be learned: 1538\n",
      "Training time: 145.48s\n"
     ]
    }
   ],
   "source": [
    "# Step 1: Preprocess Data\n",
    "# Assuming X is a list of text sequences and y is a list of corresponding labels\n",
    "\n",
    "tokenizer = BertTokenizer.from_pretrained('bert-base-uncased')\n",
    "\n",
    "# Tokenize the input sequences\n",
    "tokenized_texts = tokenizer(X_train.tolist(), padding=True, truncation=True, return_tensors='pt', max_length=512, add_special_tokens=True)\n",
    "\n",
    "# Step 2: Load Pretrained Model\n",
    "model = BertForSequenceClassification.from_pretrained('bert-base-uncased', num_labels=2)\n",
    "\n",
    "# Step 3: Freeze Pretrained Layers\n",
    "for param in model.parameters():\n",
    "    param.requires_grad = False\n",
    "\n",
    "# Unfreeze the classification head\n",
    "for param in model.classifier.parameters():\n",
    "    param.requires_grad = True\n",
    "\n",
    "# Step 4: Training\n",
    "device = torch.device(\"cuda\" if torch.cuda.is_available() else \"cpu\")\n",
    "model.to(device)\n",
    "print(device)\n",
    "\n",
    "# Step 5: Training\n",
    "labels = torch.tensor(np.array(y_train))\n",
    "dataset = TensorDataset(tokenized_texts['input_ids'], tokenized_texts['attention_mask'], labels)\n",
    "train_dataloader = DataLoader(dataset, sampler=RandomSampler(dataset), batch_size=4)\n",
    "\n",
    "optimizer = torch.optim.AdamW(model.parameters(), lr=2e-4)\n",
    "num_epochs = 1\n",
    "\n",
    "start = time.time()\n",
    "for epoch in range(num_epochs):\n",
    "    model.train()\n",
    "    total_loss = 0\n",
    "    for batch in train_dataloader:\n",
    "        batch = tuple(t.to(device) for t in batch)\n",
    "        inputs = {'input_ids': batch[0], 'attention_mask': batch[1], 'labels': batch[2]}\n",
    "        optimizer.zero_grad()\n",
    "        outputs = model(**inputs)\n",
    "        loss = outputs.loss\n",
    "        total_loss += loss.item()\n",
    "        loss.backward()\n",
    "        optimizer.step()\n",
    "    print(\"Epoch:\", epoch, \" Loss:\", total_loss)\n",
    "\n",
    "stop = time.time()\n",
    "\n",
    "# Count the number of trainable parameters\n",
    "num_params_to_learn = sum(p.numel() for p in model.parameters() if p.requires_grad)\n",
    "print(\"Number of parameters to be learned: \" + str(num_params_to_learn))\n",
    "print(f\"Training time: {round(stop - start,3)}s\")"
   ]
  },
  {
   "cell_type": "code",
   "execution_count": 8,
   "id": "c49d0d03-c193-42f9-810e-9e87c9105843",
   "metadata": {},
   "outputs": [
    {
     "name": "stdout",
     "output_type": "stream",
     "text": [
      "Inference time: 22.003s\n",
      "Accuracy: 0.8412761714855433\n",
      "Classification report\n",
      "              precision    recall  f1-score   support\n",
      "\n",
      "           0       0.84      0.98      0.91      3887\n",
      "           1       0.86      0.35      0.50      1128\n",
      "\n",
      "    accuracy                           0.84      5015\n",
      "   macro avg       0.85      0.67      0.70      5015\n",
      "weighted avg       0.84      0.84      0.81      5015\n",
      "\n"
     ]
    },
    {
     "data": {
      "image/png": "[encoded data removed]",
      "text/plain": [
       "<Figure size 500x500 with 2 Axes>"
      ]
     },
     "metadata": {},
     "output_type": "display_data"
    }
   ],
   "source": [
    "get_report_hugging_face_model(device, model, tokenizer, X_test, y_test)"
   ]
  },
  {
   "cell_type": "code",
   "execution_count": null,
   "id": "f01b0a01-4b5c-45bc-a8a8-a01e2d8795ab",
   "metadata": {},
   "outputs": [],
   "source": []
  }
 ],
 "metadata": {
  "kernelspec": {
   "display_name": "Python 3 (ipykernel)",
   "language": "python",
   "name": "python3"
  },
  "language_info": {
   "codemirror_mode": {
    "name": "ipython",
    "version": 3
   },
   "file_extension": ".py",
   "mimetype": "text/x-python",
   "name": "python",
   "nbconvert_exporter": "python",
   "pygments_lexer": "ipython3",
   "version": "3.11.6"
  }
 },
 "nbformat": 4,
 "nbformat_minor": 5
}
